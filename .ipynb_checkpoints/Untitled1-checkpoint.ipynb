{
 "cells": [
  {
   "cell_type": "code",
   "execution_count": 11,
   "metadata": {
    "collapsed": true
   },
   "outputs": [],
   "source": [
    "import skvideo.io as svio\n",
    "import skvideo.datasets as svdata"
   ]
  },
  {
   "cell_type": "code",
   "execution_count": 15,
   "metadata": {
    "collapsed": true
   },
   "outputs": [],
   "source": [
    "import moviepy.editor as mp"
   ]
  },
  {
   "cell_type": "code",
   "execution_count": 17,
   "metadata": {},
   "outputs": [],
   "source": [
    "vid = mp.VideoFileClip('./input.mp4')"
   ]
  },
  {
   "cell_type": "code",
   "execution_count": 22,
   "metadata": {},
   "outputs": [
    {
     "name": "stdout",
     "output_type": "stream",
     "text": [
      "[ 0.  0.] [[[212 205 204]\n",
      "  [212 205 204]\n",
      "  [211 204 203]\n",
      "  ..., \n",
      "  [209 211 206]\n",
      "  [213 215 210]\n",
      "  [214 216 211]]\n",
      "\n",
      " [[211 204 203]\n",
      "  [211 204 203]\n",
      "  [211 204 203]\n",
      "  ..., \n",
      "  [209 211 206]\n",
      "  [213 215 210]\n",
      "  [214 216 211]]\n",
      "\n",
      " [[204 199 198]\n",
      "  [204 199 198]\n",
      "  [203 198 197]\n",
      "  ..., \n",
      "  [209 211 206]\n",
      "  [212 214 209]\n",
      "  [214 216 211]]\n",
      "\n",
      " ..., \n",
      " [[232 234 231]\n",
      "  [232 234 231]\n",
      "  [232 234 231]\n",
      "  ..., \n",
      "  [ 19  19  19]\n",
      "  [ 19  19  19]\n",
      "  [ 19  19  19]]\n",
      "\n",
      " [[232 234 231]\n",
      "  [232 234 231]\n",
      "  [232 234 231]\n",
      "  ..., \n",
      "  [ 20  20  20]\n",
      "  [ 20  20  20]\n",
      "  [ 20  20  20]]\n",
      "\n",
      " [[232 234 231]\n",
      "  [232 234 231]\n",
      "  [232 234 231]\n",
      "  ..., \n",
      "  [ 22  22  22]\n",
      "  [ 22  22  22]\n",
      "  [ 22  22  22]]]\n"
     ]
    }
   ],
   "source": [
    "for af in vid.audio.iter_frames():\n",
    "    print\n",
    "    break\n"
   ]
  }
 ],
 "metadata": {
  "kernelspec": {
   "display_name": "Python 3",
   "language": "python",
   "name": "python3"
  },
  "language_info": {
   "codemirror_mode": {
    "name": "ipython",
    "version": 3
   },
   "file_extension": ".py",
   "mimetype": "text/x-python",
   "name": "python",
   "nbconvert_exporter": "python",
   "pygments_lexer": "ipython3",
   "version": "3.5.2"
  }
 },
 "nbformat": 4,
 "nbformat_minor": 2
}
