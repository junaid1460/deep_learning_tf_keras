{
 "cells": [
  {
   "cell_type": "code",
   "execution_count": 27,
   "metadata": {},
   "outputs": [
    {
     "name": "stdout",
     "output_type": "stream",
     "text": [
      "37.0\n",
      "37.0\n",
      "1.3125 0.7619047619047619 2.074404761904762 17.836441893830703\n"
     ]
    },
    {
     "data": {
      "text/plain": [
       "Counter({'a': 21, 'b': 16})"
      ]
     },
     "execution_count": 27,
     "metadata": {},
     "output_type": "execute_result"
    }
   ],
   "source": [
    "from collections import Counter\n",
    "s = \"abababaabbababbababababbabababaaaaaaa\"\n",
    "f = Counter(s)\n",
    "\n",
    "import math\n",
    "\n",
    "def getProbability(a, b):\n",
    "    ba = b / a\n",
    "    ab = a / b\n",
    "    cab,cfl = math.ceil(ab), math.floor(ab)\n",
    "    \n",
    "    \n",
    "    \n",
    "getProbability(f['a'], f['b'])\n",
    "f"
   ]
  }
 ],
 "metadata": {
  "kernelspec": {
   "display_name": "Python 3",
   "language": "python",
   "name": "python3"
  },
  "language_info": {
   "codemirror_mode": {
    "name": "ipython",
    "version": 3
   },
   "file_extension": ".py",
   "mimetype": "text/x-python",
   "name": "python",
   "nbconvert_exporter": "python",
   "pygments_lexer": "ipython3",
   "version": "3.5.2"
  }
 },
 "nbformat": 4,
 "nbformat_minor": 2
}
