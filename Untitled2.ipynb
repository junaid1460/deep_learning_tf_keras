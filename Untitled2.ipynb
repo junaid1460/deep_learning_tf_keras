{
 "cells": [
  {
   "cell_type": "code",
   "execution_count": 37,
   "metadata": {},
   "outputs": [
    {
     "name": "stdout",
     "output_type": "stream",
     "text": [
      "2 1\n",
      "9.03125 1.0625\n",
      "1 0\n",
      "15.058823529411764 0.9411764705882353\n"
     ]
    },
    {
     "data": {
      "text/plain": [
       "Counter({'a': 17, 'b': 16})"
      ]
     },
     "execution_count": 37,
     "metadata": {},
     "output_type": "execute_result"
    }
   ],
   "source": [
    "from collections import Counter\n",
    "s = \"abababaabbababbababababbabababaaa\"\n",
    "f = Counter(s)\n",
    "\n",
    "import math\n",
    "def rep(a,ab):\n",
    "    cab,cfl = math.ceil(ab), math.floor(ab)\n",
    "    print(cab,cfl)\n",
    "    print(a*ab/cab , ab)\n",
    "def getProbability(a, b):\n",
    "    ba = b / a\n",
    "    ab = a / b\n",
    "    rep(a,ab)\n",
    "    rep(b,ba)\n",
    "    \n",
    "    \n",
    "    \n",
    "getProbability(f['a'], f['b'])\n",
    "f"
   ]
  }
 ],
 "metadata": {
  "kernelspec": {
   "display_name": "Python 3",
   "language": "python",
   "name": "python3"
  },
  "language_info": {
   "codemirror_mode": {
    "name": "ipython",
    "version": 3
   },
   "file_extension": ".py",
   "mimetype": "text/x-python",
   "name": "python",
   "nbconvert_exporter": "python",
   "pygments_lexer": "ipython3",
   "version": "3.5.2"
  }
 },
 "nbformat": 4,
 "nbformat_minor": 2
}
